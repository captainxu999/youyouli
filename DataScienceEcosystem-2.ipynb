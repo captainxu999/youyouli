{
 "cells": [
  {
   "cell_type": "markdown",
   "id": "4c7e0b99-2207-4394-8755-1dca6570e5b3",
   "metadata": {},
   "source": [
    "# Data Science Tools and Ecosystem"
   ]
  },
  {
   "cell_type": "markdown",
   "id": "df287966-8b9e-44b1-872c-80a22d26f574",
   "metadata": {},
   "source": [
    "In this notebook, Data Science Tools and Ecosystem are summarized."
   ]
  },
  {
   "cell_type": "markdown",
   "id": "f4ef034b-0f23-4312-b0da-8f74390034a7",
   "metadata": {},
   "source": [
    "**Objectives:** \n",
    "- List popular languages for Data Science\n",
    "- Data Science Tools\n",
    "- Some of the commonly used libraries used by Data Scientists\n",
    "- Create Markdown cells\n",
    "- Convert minutes to hours\n"
   ]
  },
  {
   "cell_type": "markdown",
   "id": "557acbfb-d3c4-4ec4-8a73-20797cc2ecf6",
   "metadata": {},
   "source": [
    "Some of the popular languages that Data Scientists use are:"
   ]
  },
  {
   "cell_type": "markdown",
   "id": "9cfc6eb0-3382-4bfd-899d-b2e6d45e62c3",
   "metadata": {},
   "source": [
    "1. Python\n",
    "2. R\n",
    "3. C++"
   ]
  },
  {
   "cell_type": "markdown",
   "id": "fa40191b-aac0-4b8e-8cf3-c962748d2900",
   "metadata": {},
   "source": [
    "Some of the commonly used libraries used by Data Scientists include:"
   ]
  },
  {
   "cell_type": "markdown",
   "id": "a07ad4b5-d35f-4a45-aaea-d1ae97e08ba3",
   "metadata": {},
   "source": [
    "1. TensorFlow\n",
    "2. NumPy\n",
    "3. Pandas"
   ]
  },
  {
   "cell_type": "markdown",
   "id": "e6848481-8023-457e-a6df-dea115c32519",
   "metadata": {},
   "source": [
    " | Data Science Tools |\n",
    " |--------------------|\n",
    " | RStudio            |\n",
    " | Jupyter Notebook   |\n",
    " |  Spyder            |"
   ]
  },
  {
   "cell_type": "markdown",
   "id": "53ec7364-fb59-4f09-a20c-dfaac46e0140",
   "metadata": {},
   "source": [
    "### Below are a few examples of evaluating arithmetic expressions in Python"
   ]
  },
  {
   "cell_type": "markdown",
   "id": "0a52a1ac-52f7-4c7c-9532-2c40e4238c85",
   "metadata": {},
   "source": [
    "This a simple arithmetic expression to mutiply then add integers."
   ]
  },
  {
   "cell_type": "code",
   "execution_count": 5,
   "id": "a013a552-d02c-4253-bc34-7bdaf0e2fdb6",
   "metadata": {},
   "outputs": [
    {
     "data": {
      "text/plain": [
       "17"
      ]
     },
     "execution_count": 5,
     "metadata": {},
     "output_type": "execute_result"
    }
   ],
   "source": [
    "(3*4)+5"
   ]
  },
  {
   "cell_type": "markdown",
   "id": "389b0e0f-4986-4e98-8b81-24a6900b45ae",
   "metadata": {},
   "source": [
    "This will convert 200 minutes to hours by diving by 60."
   ]
  },
  {
   "cell_type": "code",
   "execution_count": 3,
   "id": "238b5117-a6be-4d03-ba46-1926a5ba0dca",
   "metadata": {},
   "outputs": [
    {
     "data": {
      "text/plain": [
       "3.3333333333333335"
      ]
     },
     "execution_count": 3,
     "metadata": {},
     "output_type": "execute_result"
    }
   ],
   "source": [
    "200/60"
   ]
  },
  {
   "cell_type": "markdown",
   "id": "cd6271d7-9a3f-4b4b-8e6c-8f7762af2f19",
   "metadata": {},
   "source": [
    "## Author\n",
    "Yijiang Xu"
   ]
  },
  {
   "cell_type": "code",
   "execution_count": null,
   "id": "848f422a-17cf-4fa4-9fc3-dc690549ffce",
   "metadata": {},
   "outputs": [],
   "source": []
  }
 ],
 "metadata": {
  "kernelspec": {
   "display_name": "Python 3 (ipykernel)",
   "language": "python",
   "name": "python3"
  },
  "language_info": {
   "codemirror_mode": {
    "name": "ipython",
    "version": 3
   },
   "file_extension": ".py",
   "mimetype": "text/x-python",
   "name": "python",
   "nbconvert_exporter": "python",
   "pygments_lexer": "ipython3",
   "version": "3.10.9"
  }
 },
 "nbformat": 4,
 "nbformat_minor": 5
}
